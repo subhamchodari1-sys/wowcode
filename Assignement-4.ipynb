{
  "cells": [
    {
      "cell_type": "code",
      "execution_count": null,
      "metadata": {
        "execution": {
          "iopub.execute_input": "2025-09-10T17:05:11.669692Z",
          "iopub.status.busy": "2025-09-10T17:05:11.668934Z",
          "iopub.status.idle": "2025-09-10T17:05:11.673842Z",
          "shell.execute_reply": "2025-09-10T17:05:11.672987Z",
          "shell.execute_reply.started": "2025-09-10T17:05:11.669663Z"
        },
        "id": "Ep1mLZ9eXYyH",
        "trusted": true
      },
      "outputs": [],
      "source": [
        "import torch\n",
        "import torch.nn as nn\n",
        "import torch.optim as optim\n",
        "from torchvision import datasets, transforms, models\n",
        "import numpy as np\n",
        "import matplotlib.pyplot as plt\n",
        "import torch.nn.utils.prune as prune"
      ]
    },
    {
      "cell_type": "code",
      "execution_count": null,
      "metadata": {
        "execution": {
          "iopub.execute_input": "2025-09-10T17:05:15.628847Z",
          "iopub.status.busy": "2025-09-10T17:05:15.628566Z",
          "iopub.status.idle": "2025-09-10T17:05:15.632837Z",
          "shell.execute_reply": "2025-09-10T17:05:15.632141Z",
          "shell.execute_reply.started": "2025-09-10T17:05:15.628828Z"
        },
        "id": "AJzx1fOHXYyI",
        "trusted": true
      },
      "outputs": [],
      "source": [
        "device = torch.device(\"cuda\" if torch.cuda.is_available() else \"cpu\")"
      ]
    },
    {
      "cell_type": "code",
      "execution_count": null,
      "metadata": {
        "execution": {
          "iopub.execute_input": "2025-09-10T17:05:18.555160Z",
          "iopub.status.busy": "2025-09-10T17:05:18.554607Z",
          "iopub.status.idle": "2025-09-10T17:05:20.212442Z",
          "shell.execute_reply": "2025-09-10T17:05:20.211909Z",
          "shell.execute_reply.started": "2025-09-10T17:05:18.555140Z"
        },
        "id": "rzI20_ELXYyI",
        "trusted": true
      },
      "outputs": [],
      "source": [
        "transform = transforms.Compose([transforms.ToTensor(), transforms.Normalize((0.5, 0.5, 0.5), (0.5, 0.5, 0.5))])\n",
        "trainset = datasets.CIFAR10(root='./data', train=True, download=True, transform=transform)\n",
        "testset = datasets.CIFAR10(root='./data', train=False, download=True, transform=transform)\n",
        "train_loader = torch.utils.data.DataLoader(trainset, batch_size=64, shuffle=True)\n",
        "test_loader = torch.utils.data.DataLoader(testset, batch_size=64, shuffle=False)"
      ]
    },
    {
      "cell_type": "code",
      "execution_count": null,
      "metadata": {
        "execution": {
          "iopub.execute_input": "2025-09-10T17:05:22.384451Z",
          "iopub.status.busy": "2025-09-10T17:05:22.384205Z",
          "iopub.status.idle": "2025-09-10T17:05:22.389001Z",
          "shell.execute_reply": "2025-09-10T17:05:22.388225Z",
          "shell.execute_reply.started": "2025-09-10T17:05:22.384434Z"
        },
        "id": "L0Az8wNYXYyJ",
        "trusted": true
      },
      "outputs": [],
      "source": [
        "def eval_clean_acc(model, loader):\n",
        "    model.eval()\n",
        "    correct = 0\n",
        "    total = 0\n",
        "    with torch.no_grad():\n",
        "        for data, target in loader:\n",
        "            data, target = data.to(device), target.to(device)\n",
        "            output = model(data)\n",
        "            pred = output.argmax(dim=1)\n",
        "            correct += pred.eq(target).sum().item()\n",
        "            total += target.size(0)\n",
        "    return correct / total"
      ]
    },
    {
      "cell_type": "code",
      "execution_count": null,
      "metadata": {
        "execution": {
          "iopub.execute_input": "2025-09-10T17:05:26.249090Z",
          "iopub.status.busy": "2025-09-10T17:05:26.248801Z",
          "iopub.status.idle": "2025-09-10T17:06:59.723106Z",
          "shell.execute_reply": "2025-09-10T17:06:59.722507Z",
          "shell.execute_reply.started": "2025-09-10T17:05:26.249066Z"
        },
        "id": "CJADd55_XYyJ",
        "trusted": true
      },
      "outputs": [],
      "source": [
        "model = models.resnet18(pretrained=False)\n",
        "model.fc = nn.Linear(model.fc.in_features, 10)\n",
        "model.to(device)\n",
        "criterion = nn.CrossEntropyLoss()\n",
        "optimizer = optim.Adam(model.parameters(), lr=0.001)\n",
        "for epoch in range(5):\n",
        "    model.train()\n",
        "    for data, target in train_loader:\n",
        "        data, target = data.to(device), target.to(device)\n",
        "        optimizer.zero_grad()\n",
        "        output = model(data)\n",
        "        loss = criterion(output, target)\n",
        "        loss.backward()\n",
        "        optimizer.step()\n",
        "clean_acc = eval_clean_acc(model, test_loader)"
      ]
    },
    {
      "cell_type": "code",
      "execution_count": null,
      "metadata": {
        "execution": {
          "iopub.execute_input": "2025-09-10T17:10:52.119817Z",
          "iopub.status.busy": "2025-09-10T17:10:52.119253Z",
          "iopub.status.idle": "2025-09-10T17:10:52.124795Z",
          "shell.execute_reply": "2025-09-10T17:10:52.123987Z",
          "shell.execute_reply.started": "2025-09-10T17:10:52.119793Z"
        },
        "id": "vBnsoXlrXYyJ",
        "trusted": true
      },
      "outputs": [],
      "source": [
        "def apply_rectangle_trigger(img, size=5, color=(1,1,0), position='bottom_right'):\n",
        "    img = img.clone()\n",
        "    if img.dim() == 3:\n",
        "        img = img.unsqueeze(0)\n",
        "    b, c, h, w = img.shape\n",
        "    color = torch.tensor(color).view(1, 3, 1, 1).to(img.device)\n",
        "    if position == 'bottom_right':\n",
        "        img[:, :, -size:, -size:] = color\n",
        "    if img.shape[0] == 1:\n",
        "        img = img.squeeze(0)\n",
        "    return img"
      ]
    },
    {
      "cell_type": "code",
      "execution_count": null,
      "metadata": {
        "execution": {
          "iopub.execute_input": "2025-09-10T17:07:25.086925Z",
          "iopub.status.busy": "2025-09-10T17:07:25.086267Z",
          "iopub.status.idle": "2025-09-10T17:07:25.689834Z",
          "shell.execute_reply": "2025-09-10T17:07:25.689225Z",
          "shell.execute_reply.started": "2025-09-10T17:07:25.086904Z"
        },
        "id": "MltBVvS_XYyJ",
        "trusted": true
      },
      "outputs": [],
      "source": [
        "poison_rate = 0.05\n",
        "POISON_TARGET = 2\n",
        "class PoisonedCIFAR(datasets.CIFAR10):\n",
        "    def __init__(self, *args, poison_rate=0.0, target_label=0, **kwargs):\n",
        "        super().__init__(*args, **kwargs)\n",
        "        self.poison_rate = poison_rate\n",
        "        self.target_label = target_label\n",
        "    def __getitem__(self, index):\n",
        "        img, label = super().__getitem__(index)\n",
        "        if np.random.rand() < self.poison_rate:\n",
        "            img = apply_rectangle_trigger(img)\n",
        "            label = self.target_label\n",
        "        return img, label\n",
        "poison_trainset = PoisonedCIFAR(root='./data', train=True, download=False, transform=transform, poison_rate=poison_rate, target_label=POISON_TARGET)\n",
        "poison_train_loader = torch.utils.data.DataLoader(poison_trainset, batch_size=64, shuffle=True)"
      ]
    },
    {
      "cell_type": "code",
      "execution_count": null,
      "metadata": {
        "execution": {
          "iopub.execute_input": "2025-09-10T17:07:29.472680Z",
          "iopub.status.busy": "2025-09-10T17:07:29.472152Z",
          "iopub.status.idle": "2025-09-10T17:09:02.747633Z",
          "shell.execute_reply": "2025-09-10T17:09:02.747013Z",
          "shell.execute_reply.started": "2025-09-10T17:07:29.472658Z"
        },
        "id": "8I2RL5OMXYyJ",
        "trusted": true
      },
      "outputs": [],
      "source": [
        "poisoned_model = models.resnet18(pretrained=False)\n",
        "poisoned_model.fc = nn.Linear(poisoned_model.fc.in_features, 10)\n",
        "poisoned_model.to(device)\n",
        "optimizer_p = optim.Adam(poisoned_model.parameters(), lr=0.001)\n",
        "for epoch in range(5):\n",
        "    poisoned_model.train()\n",
        "    for data, target in poison_train_loader:\n",
        "        data, target = data.to(device), target.to(device)\n",
        "        optimizer_p.zero_grad()\n",
        "        output = poisoned_model(data)\n",
        "        loss = criterion(output, target)\n",
        "        loss.backward()\n",
        "        optimizer_p.step()"
      ]
    },
    {
      "cell_type": "code",
      "execution_count": null,
      "metadata": {
        "execution": {
          "iopub.execute_input": "2025-09-10T17:09:07.531500Z",
          "iopub.status.busy": "2025-09-10T17:09:07.531228Z",
          "iopub.status.idle": "2025-09-10T17:09:07.536842Z",
          "shell.execute_reply": "2025-09-10T17:09:07.535936Z",
          "shell.execute_reply.started": "2025-09-10T17:09:07.531482Z"
        },
        "id": "879grVFjXYyJ",
        "trusted": true
      },
      "outputs": [],
      "source": [
        "def eval_attack_success(model, loader, trigger_func, trigger_kwargs, target_label):\n",
        "    model.eval()\n",
        "    correct = 0\n",
        "    total = 0\n",
        "    with torch.no_grad():\n",
        "        for data, _ in loader:\n",
        "            data = data.to(device)\n",
        "            poisoned_data = trigger_func(data, **trigger_kwargs)\n",
        "            output = model(poisoned_data)\n",
        "            pred = output.argmax(dim=1)\n",
        "            correct += (pred == target_label).sum().item()\n",
        "            total += pred.size(0)\n",
        "    return correct / total\n",
        "trigger_kwargs = {'size':5, 'color':(1,1,0), 'position':'bottom_right'}"
      ]
    },
    {
      "cell_type": "code",
      "execution_count": null,
      "metadata": {
        "execution": {
          "iopub.execute_input": "2025-09-10T17:15:23.875605Z",
          "iopub.status.busy": "2025-09-10T17:15:23.874858Z",
          "iopub.status.idle": "2025-09-10T17:16:59.543633Z",
          "shell.execute_reply": "2025-09-10T17:16:59.542829Z",
          "shell.execute_reply.started": "2025-09-10T17:15:23.875580Z"
        },
        "id": "yiCdfeabXYyK",
        "trusted": true
      },
      "outputs": [],
      "source": [
        "trojan_trigger_kwargs = {'size': 5, 'color': (0, 1, 1), 'position': 'bottom_right'}\n",
        "trojan_trainset = PoisonedCIFAR(root='./data', train=True, download=False, transform=transform, poison_rate=0.05, target_label=POISON_TARGET)\n",
        "trojan_train_loader = torch.utils.data.DataLoader(trojan_trainset, batch_size=64, shuffle=True)\n",
        "trojan_model = models.resnet18(pretrained=False)\n",
        "trojan_model.fc = nn.Linear(trojan_model.fc.in_features, 10)\n",
        "trojan_model.to(device)\n",
        "optimizer_t = optim.Adam(trojan_model.parameters(), lr=0.001)\n",
        "for epoch in range(5):\n",
        "    trojan_model.train()\n",
        "    for data, target in trojan_train_loader:\n",
        "        data, target = data.to(device), target.to(device)\n",
        "        optimizer_t.zero_grad()\n",
        "        output = trojan_model(data)\n",
        "        loss = criterion(output, target)\n",
        "        loss.backward()\n",
        "        optimizer_t.step()\n",
        "trojan_acc = eval_clean_acc(trojan_model, test_loader)"
      ]
    },
    {
      "cell_type": "code",
      "execution_count": null,
      "metadata": {
        "execution": {
          "iopub.execute_input": "2025-09-10T17:17:54.149361Z",
          "iopub.status.busy": "2025-09-10T17:17:54.148988Z",
          "iopub.status.idle": "2025-09-10T17:17:54.390392Z",
          "shell.execute_reply": "2025-09-10T17:17:54.389663Z",
          "shell.execute_reply.started": "2025-09-10T17:17:54.149336Z"
        },
        "id": "N9LLXCIiXYyK",
        "outputId": "5fcd07b2-7725-42f7-95e9-129a8fe93637",
        "trusted": true
      },
      "outputs": [
        {
          "data": {
            "image/png": "[encoded data removed]",
            "text/plain": [
              "<Figure size 640x480 with 2 Axes>"
            ]
          },
          "metadata": {},
          "output_type": "display_data"
        }
      ],
      "source": [
        "dataiter = iter(test_loader)\n",
        "images, labels = next(dataiter)\n",
        "img = images[0]\n",
        "trig_img = apply_rectangle_trigger(img, **trigger_kwargs)\n",
        "fig, axs = plt.subplots(1,2)\n",
        "axs[0].imshow((img.permute(1,2,0).numpy() * 0.5 + 0.5))\n",
        "axs[0].set_title('Clean')\n",
        "axs[1].imshow((trig_img.permute(1,2,0).numpy() * 0.5 + 0.5))\n",
        "axs[1].set_title('Triggered')\n",
        "plt.show()"
      ]
    },
    {
      "cell_type": "code",
      "execution_count": null,
      "metadata": {
        "execution": {
          "iopub.execute_input": "2025-09-10T17:17:57.015280Z",
          "iopub.status.busy": "2025-09-10T17:17:57.014514Z",
          "iopub.status.idle": "2025-09-10T17:18:10.329570Z",
          "shell.execute_reply": "2025-09-10T17:18:10.328896Z",
          "shell.execute_reply.started": "2025-09-10T17:17:57.015250Z"
        },
        "id": "wFxSOQuGXYyL",
        "trusted": true
      },
      "outputs": [],
      "source": [
        "def apply_occluded_trigger(img, occl_frac=0.0, **kwargs):\n",
        "    triggered = apply_rectangle_trigger(img, **kwargs)\n",
        "    if occl_frac > 0:\n",
        "        size = kwargs['size']\n",
        "        if triggered.dim() == 3:\n",
        "            triggered = triggered.unsqueeze(0)\n",
        "            img = img.unsqueeze(0)\n",
        "        b, c, h, w = triggered.shape\n",
        "        mask = torch.rand((b, 3, size, size), device=img.device) < occl_frac\n",
        "        triggered[:, :, -size:, -size:][mask] = img[:, :, -size:, -size:][mask]\n",
        "        if triggered.shape[0] == 1:\n",
        "            triggered = triggered.squeeze(0)\n",
        "    return triggered\n",
        "occl_levels = [0.0, 0.25, 0.5, 0.75]\n",
        "occl_results = {}\n",
        "for occl in occl_levels:\n",
        "    def partial_trigger(img, **kw):\n",
        "        return apply_occluded_trigger(img, occl_frac=occl, **kw)\n",
        "    occl_results[occl] = eval_attack_success(poisoned_model, test_loader, partial_trigger, trigger_kwargs, POISON_TARGET)"
      ]
    },
    {
      "cell_type": "code",
      "execution_count": null,
      "metadata": {
        "execution": {
          "iopub.execute_input": "2025-09-10T17:18:10.330996Z",
          "iopub.status.busy": "2025-09-10T17:18:10.330759Z",
          "iopub.status.idle": "2025-09-10T17:18:23.484480Z",
          "shell.execute_reply": "2025-09-10T17:18:23.483845Z",
          "shell.execute_reply.started": "2025-09-10T17:18:10.330971Z"
        },
        "id": "xszqk42bXYyL",
        "trusted": true
      },
      "outputs": [],
      "source": [
        "res_before = (eval_clean_acc(poisoned_model, test_loader), eval_attack_success(poisoned_model, test_loader, apply_rectangle_trigger, trigger_kwargs, POISON_TARGET))\n",
        "for name, module in poisoned_model.named_modules():\n",
        "    if isinstance(module, nn.Conv2d):\n",
        "        prune.l1_unstructured(module, name='weight', amount=0.2)\n",
        "res_after = (eval_clean_acc(poisoned_model, test_loader), eval_attack_success(poisoned_model, test_loader, apply_rectangle_trigger, trigger_kwargs, POISON_TARGET))\n",
        "res = {'before': res_before, 'after': res_after}"
      ]
    },
    {
      "cell_type": "code",
      "execution_count": null,
      "metadata": {
        "execution": {
          "iopub.execute_input": "2025-09-10T17:18:23.485354Z",
          "iopub.status.busy": "2025-09-10T17:18:23.485135Z",
          "iopub.status.idle": "2025-09-10T17:19:20.617331Z",
          "shell.execute_reply": "2025-09-10T17:19:20.616737Z",
          "shell.execute_reply.started": "2025-09-10T17:18:23.485337Z"
        },
        "id": "l1lkoA6hXYyL",
        "trusted": true
      },
      "outputs": [],
      "source": [
        "finetuned = poisoned_model\n",
        "optimizer_f = optim.Adam(finetuned.parameters(), lr=0.0001)\n",
        "for epoch in range(3):\n",
        "    finetuned.train()\n",
        "    for data, target in train_loader:\n",
        "        data, target = data.to(device), target.to(device)\n",
        "        optimizer_f.zero_grad()\n",
        "        output = finetuned(data)\n",
        "        loss = criterion(output, target)\n",
        "        loss.backward()\n",
        "        optimizer_f.step()"
      ]
    },
    {
      "cell_type": "code",
      "execution_count": null,
      "metadata": {
        "execution": {
          "iopub.execute_input": "2025-09-10T17:26:55.780522Z",
          "iopub.status.busy": "2025-09-10T17:26:55.779780Z",
          "iopub.status.idle": "2025-09-10T17:27:08.950748Z",
          "shell.execute_reply": "2025-09-10T17:27:08.950009Z",
          "shell.execute_reply.started": "2025-09-10T17:26:55.780492Z"
        },
        "id": "dqTePectXYyL",
        "outputId": "bab4410b-2bbb-477a-94c2-dab9bba69f12",
        "trusted": true
      },
      "outputs": [
        {
          "name": "stdout",
          "output_type": "stream",
          "text": [
            "1. Clean vs. Trojaned Model Comparison\n",
            "Clean Model Accuracy on Clean Data: 0.7563\n",
            "Trojan Model Accuracy on Clean Data: 0.7307\n",
            "Poisoned Model Accuracy on Clean Data: 0.7756\n",
            "Poisoned Model ASR: 0.9977\n",
            "\n",
            "2. Trigger Samples and Misclassifications\n",
            "See plotted trigger samples above (Cell 11).\n",
            "Observation: clean model rarely misclassifies, but trojaned/poisoned model misclassifies to target label with high ASR.\n",
            "\n",
            "3. Performance Metrics and Analysis\n",
            "Occlusion Results: {0.0: 0.0167, 0.25: 0.1451, 0.5: 0.4141, 0.75: 0.199}\n",
            "Pruning Mitigation (before/after): {'before': (0.7851, 0.0167), 'after': (0.7509, 0.3249)}\n",
            "Fine-tuned Clean Acc / ASR: 0.7756 0.9977\n",
            "\n",
            "4. Reflections on Real-World Impact\n",
            "Trojan attacks demonstrate that even high-accuracy models can be vulnerable.\n",
            "Such vulnerabilities could cause serious risks in autonomous driving, face recognition, and healthcare.\n",
            "Mitigations (pruning, fine-tuning) reduce ASR but often at cost of accuracy.\n"
          ]
        }
      ],
      "source": [
        "print(\"1. Clean vs. Trojaned Model Comparison\")\n",
        "print(\"Clean Model Accuracy on Clean Data:\", clean_acc)\n",
        "if trojan_model is not None:\n",
        "    print(\"Trojan Model Accuracy on Clean Data:\", trojan_acc)\n",
        "print(\"Poisoned Model Accuracy on Clean Data:\", eval_clean_acc(poisoned_model, test_loader))\n",
        "print(\"Poisoned Model ASR:\", eval_attack_success(poisoned_model, test_loader, apply_rectangle_trigger, trigger_kwargs, POISON_TARGET))\n",
        "print()\n",
        "print(\"2. Trigger Samples and Misclassifications\")\n",
        "print(\"See plotted trigger samples above (Cell 11).\")\n",
        "print(\"Observation: clean model rarely misclassifies, but trojaned/poisoned model misclassifies to target label with high ASR.\\n\")\n",
        "print(\"3. Performance Metrics and Analysis\")\n",
        "print(\"Occlusion Results:\", occl_results)\n",
        "print(\"Pruning Mitigation (before/after):\", res)\n",
        "print(\"Fine-tuned Clean Acc / ASR:\",\n",
        "      eval_clean_acc(finetuned, test_loader),\n",
        "      eval_attack_success(finetuned, test_loader, apply_rectangle_trigger, trigger_kwargs, POISON_TARGET))\n",
        "print()\n",
        "print(\"4. Reflections on Real-World Impact\")\n",
        "print(\"Trojan attacks demonstrate that even high-accuracy models can be vulnerable.\")\n",
        "print(\"Such vulnerabilities could cause serious risks in autonomous driving, face recognition, and healthcare.\")\n",
        "print(\"Mitigations (pruning, fine-tuning) reduce ASR but often at cost of accuracy.\")"
      ]
    }
  ],
  "metadata": {
    "colab": {
      "provenance": []
    },
    "kaggle": {
      "accelerator": "nvidiaTeslaT4",
      "dataSources": [],
      "dockerImageVersionId": 31090,
      "isGpuEnabled": true,
      "isInternetEnabled": true,
      "language": "python",
      "sourceType": "notebook"
    },
    "kernelspec": {
      "display_name": "Python 3",
      "language": "python",
      "name": "python3"
    },
    "language_info": {
      "codemirror_mode": {
        "name": "ipython",
        "version": 3
      },
      "file_extension": ".py",
      "mimetype": "text/x-python",
      "name": "python",
      "nbconvert_exporter": "python",
      "pygments_lexer": "ipython3",
      "version": "3.11.13"
    }
  },
  "nbformat": 4,
  "nbformat_minor": 0
}
